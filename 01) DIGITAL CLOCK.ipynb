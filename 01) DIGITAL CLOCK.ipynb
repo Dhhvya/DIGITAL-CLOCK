{
 "cells": [
  {
   "cell_type": "markdown",
   "id": "7c8a6214-0342-4e94-a3e9-92894887b4a2",
   "metadata": {},
   "source": [
    "### DIGITALCLOCK"
   ]
  },
  {
   "cell_type": "code",
   "execution_count": 1,
   "id": "bf4a06de-466b-45cb-a743-0d028c6b2b15",
   "metadata": {},
   "outputs": [],
   "source": [
    "from tkinter import *\n",
    "from tkinter.ttk import *\n",
    "from time import strftime\n",
    "\n",
    "root = Tk()\n",
    "root.title(\"Clock\")\n",
    "\n",
    "def time():\n",
    "    string = strftime('%I:%M:%S %p')\n",
    "    label.config(text=string)\n",
    "    label.after(1000, time)\n",
    "\n",
    "label = Label(root, font=('ds-digital', 80), background='white', foreground='black')\n",
    "label.pack(anchor='center')\n",
    "\n",
    "time()\n",
    "\n",
    "mainloop()\n"
   ]
  },
  {
   "cell_type": "code",
   "execution_count": null,
   "id": "a2442c19-0e00-4ccd-8a81-ae99957167a4",
   "metadata": {},
   "outputs": [],
   "source": []
  }
 ],
 "metadata": {
  "kernelspec": {
   "display_name": "Python 3 (ipykernel)",
   "language": "python",
   "name": "python3"
  },
  "language_info": {
   "codemirror_mode": {
    "name": "ipython",
    "version": 3
   },
   "file_extension": ".py",
   "mimetype": "text/x-python",
   "name": "python",
   "nbconvert_exporter": "python",
   "pygments_lexer": "ipython3",
   "version": "3.11.7"
  }
 },
 "nbformat": 4,
 "nbformat_minor": 5
}
